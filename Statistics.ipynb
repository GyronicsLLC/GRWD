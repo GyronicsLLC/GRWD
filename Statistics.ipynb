{
 "cells": [
  {
   "cell_type": "code",
   "execution_count": 3,
   "id": "2c7058e8-4217-42b1-bb6a-717fb5c918e1",
   "metadata": {},
   "outputs": [],
   "source": [
    "import pandas as pd"
   ]
  },
  {
   "cell_type": "code",
   "execution_count": 15,
   "id": "90c853d4-5529-4932-b66b-5e100a0f68ac",
   "metadata": {},
   "outputs": [],
   "source": [
    "data_subjects_data = pd.read_csv('Gyronics_data_subjects.csv')"
   ]
  },
  {
   "cell_type": "code",
   "execution_count": 18,
   "id": "12b2a35d-e7ac-402a-aad3-3390c491d96e",
   "metadata": {},
   "outputs": [],
   "source": [
    "data_subjects_data['age'] = pd.to_numeric(data_subjects_data['age'].replace('NAN', None), errors='coerce')\n",
    "# Replace NaN with the median\n",
    "data_subjects_data['age'] = data_subjects_data['age'].fillna(data_subjects_data['age'].median()).astype(int)"
   ]
  },
  {
   "cell_type": "code",
   "execution_count": 19,
   "id": "3960b975-e2a0-48ef-8639-6504001e163b",
   "metadata": {},
   "outputs": [
    {
     "name": "stdout",
     "output_type": "stream",
     "text": [
      "Right Handed: 44\n",
      "Left Handed: 4\n",
      "Male: 38\n",
      "Female: 10\n",
      "Age Range: 17-33\n"
     ]
    }
   ],
   "source": [
    "# Count right-handed and left-handed samples\n",
    "right_handed_count = (data_subjects_data ['hand'] == 'RH').sum()\n",
    "left_handed_count = (data_subjects_data ['hand'] == 'LH').sum()\n",
    "\n",
    "# Count male and female samples\n",
    "male_count = (data_subjects_data ['gender'] == 'M').sum()\n",
    "female_count = (data_subjects_data ['gender'] == 'F').sum()\n",
    "\n",
    "# Age range statistics\n",
    "min_age = data_subjects_data['age'].min()\n",
    "max_age = data_subjects_data['age'].max()\n",
    "age_range = f\"{min_age}-{max_age}\"\n",
    "\n",
    "# Display the results\n",
    "print(f\"Right Handed: {right_handed_count}\")\n",
    "print(f\"Left Handed: {left_handed_count}\")\n",
    "print(f\"Male: {male_count}\")\n",
    "print(f\"Female: {female_count}\")\n",
    "print(f\"Age Range: {age_range}\")"
   ]
  },
  {
   "cell_type": "code",
   "execution_count": null,
   "id": "b307fe24-b775-437f-9980-983181ba06f8",
   "metadata": {},
   "outputs": [],
   "source": []
  }
 ],
 "metadata": {
  "kernelspec": {
   "display_name": "Python 3 (ipykernel)",
   "language": "python",
   "name": "python3"
  },
  "language_info": {
   "codemirror_mode": {
    "name": "ipython",
    "version": 3
   },
   "file_extension": ".py",
   "mimetype": "text/x-python",
   "name": "python",
   "nbconvert_exporter": "python",
   "pygments_lexer": "ipython3",
   "version": "3.12.0"
  }
 },
 "nbformat": 4,
 "nbformat_minor": 5
}
